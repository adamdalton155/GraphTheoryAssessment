{
 "cells": [
  {
   "cell_type": "markdown",
   "id": "72b99f50",
   "metadata": {},
   "source": [
    "<h1>Explanation of the Heap Sort algorithm</h1>\n",
    "<hr>"
   ]
  },
  {
   "cell_type": "markdown",
   "id": "eb7b59a2",
   "metadata": {},
   "source": [
    "<p> Heap Sort is a comparison-based sorting technique based on Binary Heap data structure. The purpose of the Heap Sort algorithm is to find the smallest element in a list and place that element at the start of the list and then repeat for each element in the list.\n",
    "\n",
    "Heap sort works by visualising the elements in an array as a binary tree called a heap. If you take index of element i, the element (2i + 1) will become the left child whereas element (2i + 2) will become the right element. The organisation of the binary tree is known as to 'Heapify' the list.\n",
    "    \n",
    "For a binary tree, all the nodes proceeding the parent (the child nodes) are either larger or smaller than their parent node. These are known as Max-Heap and Min-Heap respectively.\n",
    "</p>"
   ]
  },
  {
   "cell_type": "markdown",
   "id": "9ba34858",
   "metadata": {},
   "source": [
    "<h1>Implementation of Heap Sort Algorithm</h1>\n",
    "<hr>"
   ]
  },
  {
   "cell_type": "code",
   "execution_count": 28,
   "id": "8fe5587f",
   "metadata": {},
   "outputs": [],
   "source": [
    "def heapify(array, n, i):\n",
    "    largest = i\n",
    "    left = 2*i + 1\n",
    "    right = 2*i + 2 \n",
    "    \n",
    "    #Largest comparing with the left child\n",
    "    if left < n and array[largest] < array[left]:\n",
    "        largest = left\n",
    "    \n",
    "    if right < n and array[largest] < array[right]:\n",
    "        largest = right\n",
    "    "
   ]
  },
  {
   "cell_type": "code",
   "execution_count": 29,
   "id": "3d7066bc",
   "metadata": {},
   "outputs": [],
   "source": [
    "array = [2,55,34,6,10,16]\n",
    "n = len(array)\n",
    "\n",
    "#Build heap\n",
    "for i in range(n//2 -2, -1, -1):\n",
    "    heapify(array, n, i)"
   ]
  },
  {
   "cell_type": "code",
   "execution_count": 30,
   "id": "aea554fc",
   "metadata": {},
   "outputs": [
    {
     "name": "stdout",
     "output_type": "stream",
     "text": [
      "Heapify is\n"
     ]
    },
    {
     "ename": "TypeError",
     "evalue": "'list' object is not callable",
     "output_type": "error",
     "traceback": [
      "\u001b[0;31m---------------------------------------------------------------------------\u001b[0m",
      "\u001b[0;31mTypeError\u001b[0m                                 Traceback (most recent call last)",
      "\u001b[0;32m/var/folders/21/j667sbys2_3bx4rb_h62kkdm0000gn/T/ipykernel_1386/761916793.py\u001b[0m in \u001b[0;36m<module>\u001b[0;34m\u001b[0m\n\u001b[1;32m      2\u001b[0m \u001b[0mprint\u001b[0m\u001b[0;34m(\u001b[0m\u001b[0;34m\"Heapify is\"\u001b[0m\u001b[0;34m)\u001b[0m\u001b[0;34m\u001b[0m\u001b[0;34m\u001b[0m\u001b[0m\n\u001b[1;32m      3\u001b[0m \u001b[0;32mfor\u001b[0m \u001b[0mi\u001b[0m \u001b[0;32min\u001b[0m \u001b[0mrange\u001b[0m\u001b[0;34m(\u001b[0m\u001b[0mn\u001b[0m\u001b[0;34m)\u001b[0m\u001b[0;34m:\u001b[0m\u001b[0;34m\u001b[0m\u001b[0;34m\u001b[0m\u001b[0m\n\u001b[0;32m----> 4\u001b[0;31m     \u001b[0mprint\u001b[0m\u001b[0;34m(\u001b[0m\u001b[0marray\u001b[0m\u001b[0;34m(\u001b[0m\u001b[0mi\u001b[0m\u001b[0;34m)\u001b[0m\u001b[0;34m)\u001b[0m\u001b[0;34m\u001b[0m\u001b[0;34m\u001b[0m\u001b[0m\n\u001b[0m",
      "\u001b[0;31mTypeError\u001b[0m: 'list' object is not callable"
     ]
    }
   ],
   "source": [
    "#Display heapifyed data\n",
    "print(\"Heapify is\")\n",
    "for i in range(n):\n",
    "    print(array(i))"
   ]
  },
  {
   "cell_type": "code",
   "execution_count": null,
   "id": "b04a455a",
   "metadata": {},
   "outputs": [],
   "source": []
  }
 ],
 "metadata": {
  "kernelspec": {
   "display_name": "Python 3 (ipykernel)",
   "language": "python",
   "name": "python3"
  },
  "language_info": {
   "codemirror_mode": {
    "name": "ipython",
    "version": 3
   },
   "file_extension": ".py",
   "mimetype": "text/x-python",
   "name": "python",
   "nbconvert_exporter": "python",
   "pygments_lexer": "ipython3",
   "version": "3.9.7"
  }
 },
 "nbformat": 4,
 "nbformat_minor": 5
}
