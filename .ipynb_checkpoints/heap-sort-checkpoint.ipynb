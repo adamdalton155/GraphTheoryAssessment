{
 "cells": [
  {
   "cell_type": "markdown",
   "id": "72b99f50",
   "metadata": {},
   "source": [
    "<h1>Explanation of the Heap Sort algorithm</h1>\n",
    "<hr>"
   ]
  },
  {
   "cell_type": "markdown",
   "id": "eb7b59a2",
   "metadata": {},
   "source": [
    "Heap Sort is a comparison-based sorting technique based on Binary Heap data structure. The purpose of the Heap Sort algorithm is to find the smallest element in a list and place that element at the start of the list and then repeat for each element in the list. Heap Sort was first developed in 1964 by J. W. J. Williams. \n",
    "\n",
    "Heap sort works by visualising the elements in an array as a binary tree called a heap. If you take index of element i, the element (2i + 1) will become the left child whereas element (2i + 2) will become the right element. The organisation of the binary tree is known as to 'Heapify' the list.\n",
    "    \n",
    "For a binary tree, all the nodes proceeding the parent (the child nodes) are either larger or smaller than their parent node. These are known as Max-Heap and Min-Heap respectively."
   ]
  },
  {
   "cell_type": "markdown",
   "id": "9ba34858",
   "metadata": {},
   "source": [
    "<h1>Implementation of Heap Sort Algorithm</h1>\n",
    "<hr>"
   ]
  },
  {
   "cell_type": "code",
   "execution_count": 7,
   "id": "8fe5587f",
   "metadata": {},
   "outputs": [],
   "source": [
    "def heapify(array, n, i):\n",
    "    largest = i\n",
    "    left = 2*i + 1\n",
    "    right = 2*i + 2 \n",
    "    \n",
    "    #Largest comparing with the left child\n",
    "    if left < n and array[largest] < array[left]:\n",
    "        largest = left\n",
    "    #Largest comparing with the right child\n",
    "    if right < n and array[largest] < array[right]:\n",
    "        largest = right\n",
    "    #Swap the parent\n",
    "    if largest != i:\n",
    "        array[i], array[largest] = array[largest], array[i]\n",
    "        heapify(array, n, largest)\n",
    "    "
   ]
  },
  {
   "cell_type": "code",
   "execution_count": 8,
   "id": "3d7066bc",
   "metadata": {},
   "outputs": [],
   "source": [
    "array = [7,45,30,23,2,19]\n",
    "n = len(array)\n",
    "\n",
    "#Heapsort function\n",
    "def heapsort(array):\n",
    "    for i in range(n - 1, 0, -1):\n",
    "       #Swap \n",
    "        array[i], array[0] = array[0], array[i]\n",
    "        heapify(array, i, 0)\n",
    "\n",
    "#Build heap\n",
    "for i in range(n//2 -1, -1, -1):\n",
    "    heapify(array, n, i)\n",
    "    \n",
    "#Function call to sort data\n",
    "heapsort(array)"
   ]
  },
  {
   "cell_type": "code",
   "execution_count": 9,
   "id": "aea554fc",
   "metadata": {},
   "outputs": [
    {
     "name": "stdout",
     "output_type": "stream",
     "text": [
      "Sorted Heap is:\n",
      "2\n",
      "7\n",
      "19\n",
      "23\n",
      "30\n",
      "45\n"
     ]
    }
   ],
   "source": [
    "#Display heapifyed data\n",
    "print(\"Sorted Heap is:\")\n",
    "for i in range(n):\n",
    "    print(array[i])"
   ]
  },
  {
   "cell_type": "markdown",
   "id": "0db9766b",
   "metadata": {},
   "source": [
    "<h1>Explanation of the computational complexity of Heap Sort</h1>\n",
    "<hr>"
   ]
  },
  {
   "cell_type": "markdown",
   "id": "ae56af99",
   "metadata": {},
   "source": [
    "When performing Heap Sort, the calling of the function HeapSort creates a heap that has the runtime of O(n). Then using a for loop, the Heapify function to keep the property when a new node is inserted into the heap. Due to the fact that there is N number of nodes, the runtime of Heap Sort is O(n(log(n)). \n",
    "\n",
    "The result of this is that the first removal takes log(n) time, the second removal takes log(n-2) time and so on until the final node which will take log(1) time.\n",
    "\n",
    "The worst case for the computational complexity of Heap Sort is that if each node is unique, each node in the list will need to be swapped and so the total number of moves is equal to n * (log(n))\n",
    "\n",
    "Further more, the best case is that each node is identical so that removal of a node would only take a runtime of O(1) and so as a result, the total number of moves is n * O(1)\n",
    "\n",
    "In terms of space complexity, the space requirment is constant and is O(1). This is because all the elements are placed in a heap structure and the removed item from the list is placed at another position."
   ]
  },
  {
   "cell_type": "markdown",
   "id": "94b01367",
   "metadata": {},
   "source": [
    "<h1>Explanation of how graph theory is used in Heap Sort</h1>\n",
    "<hr>"
   ]
  },
  {
   "cell_type": "markdown",
   "id": "c93b431d",
   "metadata": {},
   "source": [
    "Graph Theory is used in heap sort to visualise data from a list in an easy to read format. The reason for this is that elements can be constantly removed or added to the list and so sorting a list can be difficult and so the Heap Sort (Min-Heap/Max-Heap) can be used to sort and then graph that data onto onto a binary tree.\n",
    "\n",
    "A binary tree (which is just an array list) has parent and child nodes. The parent is the root and child are descending nodes. Each parent has at most two children nodes. In a min-heap, the root node has the smallest value where as in a max-heap the root node has the largest value.\n",
    "\n",
    "The algorithm for adding a node to the binary tree works as follows...\n",
    "A node is added to the end of the list and is compared with its parent node and is moved up or down the list depending on its size and if its a min or max heap. This process is reapeated until the relationship with the parent is consistent with the binary tree"
   ]
  },
  {
   "cell_type": "code",
   "execution_count": null,
   "id": "b287dc70",
   "metadata": {},
   "outputs": [],
   "source": []
  }
 ],
 "metadata": {
  "kernelspec": {
   "display_name": "Python 3 (ipykernel)",
   "language": "python",
   "name": "python3"
  },
  "language_info": {
   "codemirror_mode": {
    "name": "ipython",
    "version": 3
   },
   "file_extension": ".py",
   "mimetype": "text/x-python",
   "name": "python",
   "nbconvert_exporter": "python",
   "pygments_lexer": "ipython3",
   "version": "3.9.7"
  }
 },
 "nbformat": 4,
 "nbformat_minor": 5
}
