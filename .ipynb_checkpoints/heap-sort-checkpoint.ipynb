{
 "cells": [
  {
   "cell_type": "markdown",
   "id": "72b99f50",
   "metadata": {},
   "source": [
    "<h1>Explanation of the Heap Sort algorithm</h1>\n",
    "<hr>"
   ]
  },
  {
   "cell_type": "markdown",
   "id": "eb7b59a2",
   "metadata": {},
   "source": [
    "<p> Heap Sort is a comparison-based sorting technique based on Binary Heap data structure. The purpose of the Heap Sort algorithm is to find the smallest element in a list and place that element at the start of the list and then repeat for each element in the list.\n",
    "\n",
    "Heap sort works by visualising the elements in an array as a binary tree called a heap. If you take index of element i, the element (2i + 1) will become the left child whereas element (2i + 2) will become the right element. The organisation of the binary tree is known as to 'Heapify' the list.\n",
    "    \n",
    "For a binary tree, all the nodes proceeding the parent (the child nodes) are either larger or smaller than their parent node. These are known as Max-Heap and Min-Heap respectively.\n",
    "</p>"
   ]
  },
  {
   "cell_type": "markdown",
   "id": "9ba34858",
   "metadata": {},
   "source": [
    "<h1>Implementation of Heap Sort Algorithm</h1>\n",
    "<hr>"
   ]
  },
  {
   "cell_type": "code",
   "execution_count": 14,
   "id": "8fe5587f",
   "metadata": {},
   "outputs": [],
   "source": [
    "def heapify(array, n, i):\n",
    "    largest = i\n",
    "    left = 2*i + 1\n",
    "    right = 2*i + 2 \n",
    "    \n",
    "    #Largest comparing with the left child\n",
    "    if left < n and array[largest] < array[left]:\n",
    "        largest = left\n",
    "    #Largest comparing with the right child\n",
    "    if right < n and array[largest] < array[right]:\n",
    "        largest = right\n",
    "    #Swap the parent\n",
    "    if largest != i:\n",
    "        array[i], array[largest] = array[largest], array[i]\n",
    "        heapify(array, n, largest)\n",
    "    "
   ]
  },
  {
   "cell_type": "code",
   "execution_count": 21,
   "id": "3d7066bc",
   "metadata": {},
   "outputs": [],
   "source": [
    "array = [7,45,30,23,2,19]\n",
    "n = len(array)\n",
    "\n",
    "#Heapsort function\n",
    "def heapsort(array):\n",
    "    for i in range(n - 1, 0, -1):\n",
    "       #Swap \n",
    "        array[i], array[0] = array[0], array[i]\n",
    "        heapify(array, i, 0)\n",
    "\n",
    "#Build heap\n",
    "for i in range(n//2 -1, -1, -1):\n",
    "    heapify(array, n, i)\n",
    "    \n",
    "#Function call to sort data\n",
    "heapsort(array)"
   ]
  },
  {
   "cell_type": "code",
   "execution_count": 22,
   "id": "aea554fc",
   "metadata": {},
   "outputs": [
    {
     "name": "stdout",
     "output_type": "stream",
     "text": [
      "Sorted Heap is:\n",
      "2\n",
      "7\n",
      "19\n",
      "23\n",
      "30\n",
      "45\n"
     ]
    }
   ],
   "source": [
    "#Display heapifyed data\n",
    "print(\"Sorted Heap is:\")\n",
    "for i in range(n):\n",
    "    print(array[i])"
   ]
  }
 ],
 "metadata": {
  "kernelspec": {
   "display_name": "Python 3 (ipykernel)",
   "language": "python",
   "name": "python3"
  },
  "language_info": {
   "codemirror_mode": {
    "name": "ipython",
    "version": 3
   },
   "file_extension": ".py",
   "mimetype": "text/x-python",
   "name": "python",
   "nbconvert_exporter": "python",
   "pygments_lexer": "ipython3",
   "version": "3.9.7"
  }
 },
 "nbformat": 4,
 "nbformat_minor": 5
}
