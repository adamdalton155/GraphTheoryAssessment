{
 "cells": [
  {
   "cell_type": "markdown",
   "id": "465edc4a",
   "metadata": {},
   "source": [
    "<h1>Explanation of the Graph Iomorphism Problem</h1>\n",
    "<hr>"
   ]
  },
  {
   "cell_type": "markdown",
   "id": "a9aac11d",
   "metadata": {},
   "source": [
    "The Graph Isomorphism problem is a computational problem which attempts to determine whether two finite graphs are isomorphic or not. Isomorphic meaning that two graphs contain the same number of vertices which are also connected in the same way.\n",
    "\n",
    "The Graph Isomorphism problem is currently not known to solvable. The reason for this is the problem cannot be solved in polynominal time or to be NP-Complete. What this means the execution time is either given by a polynomial on the size of the input or can be bounded by a polynomial, and NP-Complete means the complexity class of decision problems for which answers can be checked for correctness, given a cetificate by an algorithm whose run time is polynomial in the size of the input (that is, it is NP) and no other NP problem is more than a polynomial factor harder.\n",
    "\n",
    "In more recent years, a theoretical computer scientist of the university of the university of Chicago named László Babai claimed to have solved Graph Isomorphism problem. His new algorithm at the time was more efficient the previous algorithm which held the record for over thirty years."
   ]
  },
  {
   "cell_type": "markdown",
   "id": "6faad635",
   "metadata": {},
   "source": [
    "<h1>Explanation of how graphs can be represented in data structures</h1>\n",
    "<hr>"
   ]
  },
  {
   "cell_type": "markdown",
   "id": "377c9541",
   "metadata": {},
   "source": [
    "In graph theory, a graph can be represented using 3 different data structures...\n",
    "1. An Adjacency matrix is essentially a table with rows and columns and the data within the column represents the nodes of a graph. Each cell represents an edge of the matrix between two nodes. The python library to draw adjacency matrix us called 'networkx'.\n",
    "\n",
    "\n",
    "2. An Adjacency list representation of a graph, each vertex is represented as a node object and this node may either contain data or is a reference to a linked list. This list provides a list of all nodes that are adjacent to the current node. Adjacency list does have a faster search process compared to Adjacency matrix but does not fair well when nodes are added or removed. \n",
    "\n",
    "\n",
    "3. Finally, there is an Adjacency set. Its quite similar to an Adjacency list except that instead of a list, a set of adjacent vertices is provided. Adjacency set is primarliy used where there are few connections between nodes where as Adjacency matrix is used where "
   ]
  }
 ],
 "metadata": {
  "kernelspec": {
   "display_name": "Python 3 (ipykernel)",
   "language": "python",
   "name": "python3"
  },
  "language_info": {
   "codemirror_mode": {
    "name": "ipython",
    "version": 3
   },
   "file_extension": ".py",
   "mimetype": "text/x-python",
   "name": "python",
   "nbconvert_exporter": "python",
   "pygments_lexer": "ipython3",
   "version": "3.9.7"
  }
 },
 "nbformat": 4,
 "nbformat_minor": 5
}
