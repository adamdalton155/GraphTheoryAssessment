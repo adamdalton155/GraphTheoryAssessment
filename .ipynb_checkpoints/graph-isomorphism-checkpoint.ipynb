{
 "cells": [
  {
   "cell_type": "markdown",
   "id": "465edc4a",
   "metadata": {},
   "source": [
    "<h1>Explanation of the Graph Iomorphism Problem</h1>\n",
    "<hr>"
   ]
  },
  {
   "cell_type": "markdown",
   "id": "a9aac11d",
   "metadata": {},
   "source": [
    "The Graph Isomorphism problem is a computational problem which attempts to determine whether two finite graphs are isomorphic or not. Isomorphic meaning that two graphs contain the same number of vertices which are also connected in the same way.\n",
    "\n",
    "The Graph Isomorphism problem is currently not known to solvable. The reason for this is the problem cannot be solved in polynominal time or to be NP-Complete. What this means the execution time is either given by a polynomial on the size of the input or can be bounded by a polynomial, and NP-Complete means the complexity class of decision problems for which answers can be checked for correctness, given a cetificate by an algorithm whose run time is polynomial in the size of the input (that is, it is NP) and no other NP problem is more than a polynomial factor harder.\n",
    "\n",
    "In more recent years, a theoretical computer scientist of the university of the university of Chicago named László Babai claimed to have solved Graph Isomorphism problem. His new algorithm at the time was more efficient the previous algorithm which held the record for over thirty years."
   ]
  },
  {
   "cell_type": "markdown",
   "id": "6faad635",
   "metadata": {},
   "source": [
    "<h1>Explanation of how graphs can be represented in data structures</h1>\n",
    "<hr>"
   ]
  },
  {
   "cell_type": "markdown",
   "id": "377c9541",
   "metadata": {},
   "source": [
    "In graph theory, a graph can be represented using 3 different data structures...\n",
    "1. An Adjacency matrix is essentially a table with rows and columns and the data within the column represents the nodes of a graph. Each cell represents an edge of the matrix between two nodes. The python library to draw adjacency matrix us called 'networkx'.\n",
    "\n",
    "\n",
    "2. An Adjacency list representation of a graph, each vertex is represented as a node object and this node may either contain data or is a reference to a linked list. This list provides a list of all nodes that are adjacent to the current node. Adjacency list does have a faster search process compared to Adjacency matrix but does not fair well when nodes are added or removed. \n",
    "\n",
    "\n",
    "3. Finally, there is an Adjacency set. Its quite similar to an Adjacency list except that instead of a list, a set of adjacent vertices is provided. Adjacency set is primarily used where there are few connections between nodes where as Adjacency matrix is used where "
   ]
  },
  {
   "cell_type": "markdown",
   "id": "f6f3ee85",
   "metadata": {},
   "source": [
    "<h1>Python function implementing an algorithm to determine if two graphs are isomorphic or not</h1>\n",
    "<hr>"
   ]
  },
  {
   "cell_type": "code",
   "execution_count": null,
   "id": "9d9d295c",
   "metadata": {},
   "outputs": [],
   "source": []
  },
  {
   "cell_type": "markdown",
   "id": "dfa9bf0f",
   "metadata": {},
   "source": [
    "<h1>Discussion of the computational complexity of the Graph Isomorphism Problem</h1>\n",
    "<hr>"
   ]
  },
  {
   "cell_type": "markdown",
   "id": "72c45bd9",
   "metadata": {},
   "source": [
    "Due to the fact that the problem isnt NP-Complete or tractable, researchers have been trying to gain insight with a new class GI, the set of problems with a polynominal time reduction to the graph isomorphism problem. If the problem can be solved in polynominal time, GI would equal P, where as if the problem is NP-Complete, GI would equal NP and all problems would be solved in quasi-polynominal time.\n",
    "\n",
    "In complexity classes, it is common within the polynominal time hierarchy, a problem is called GI-Hard if a polynominal time turning reduction is present from any GI to that problem. A problem is considered complete for GI/GI-Complete if it is both GI-Hard and a polynominal time solution to the GI problem would yield a polynominal time solution. For the graph isomorphism problem, it is considered NP (meaning not solvable with an efficient algorithm). It gained traction because it is one of the few natural problems with this complexity class and so is considered as a major open problem in computer science.\n",
    "\n",
    "When Babi proved that graph isomorphism is solvable is quasipolynominal time, this means that on n-vertex input graphs, Babai's algorithm runs in time n^p(log n) for some polynomial p(X). This means the problem is almost efficiently solvable theoretically."
   ]
  },
  {
   "cell_type": "markdown",
   "id": "2baff8f3",
   "metadata": {},
   "source": [
    "<h1>References</h1>\n",
    "<hr>"
   ]
  },
  {
   "cell_type": "markdown",
   "id": "54afc553",
   "metadata": {},
   "source": [
    "- Explanation of the Graph Iomorphism Problem\n",
    "\n",
    "https://cacm.acm.org/magazines/2020/11/248220-the-graph-isomorphism-problem/fulltext\n",
    "\n",
    "https://www.quantamagazine.org/algorithm-solves-graph-isomorphism-in-record-time-20151214/\n",
    "\n",
    "\n",
    "https://en.wikipedia.org/wiki/Graph_isomorphism_problem#Complexity_class_GI\n",
    "\n",
    "- Explanation of how graphs can be represented in data structures\n",
    "\n",
    "https://www.mygreatlearning.com/blog/representing-graphs-in-data-structures/\n",
    "\n",
    "- Discussion of the computational complexity of the Graph Isomorphism Problem\n",
    "\n",
    "https://cacm.acm.org/magazines/2020/11/248220-the-graph-isomorphism-problem/fulltext\n",
    "\n",
    "https://en.wikipedia.org/wiki/Graph_isomorphism_problem#Complexity_class_GI"
   ]
  }
 ],
 "metadata": {
  "kernelspec": {
   "display_name": "Python 3 (ipykernel)",
   "language": "python",
   "name": "python3"
  },
  "language_info": {
   "codemirror_mode": {
    "name": "ipython",
    "version": 3
   },
   "file_extension": ".py",
   "mimetype": "text/x-python",
   "name": "python",
   "nbconvert_exporter": "python",
   "pygments_lexer": "ipython3",
   "version": "3.9.7"
  }
 },
 "nbformat": 4,
 "nbformat_minor": 5
}
