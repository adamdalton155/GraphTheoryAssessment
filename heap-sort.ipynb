{
 "cells": [
  {
   "cell_type": "markdown",
   "id": "72b99f50",
   "metadata": {},
   "source": [
    "<h1>Explanation of the Heap Sort algorithm</h1>\n",
    "<hr>"
   ]
  },
  {
   "cell_type": "markdown",
   "id": "eb7b59a2",
   "metadata": {},
   "source": [
    "<p> Heap Sort is a comparison-based sorting technique based on Binary Heap data structure. The purpose of the Heap Sort algorithm is to find the smallest element in a list and place that element at the start of the list and then repeat for each element in the list.\n",
    "\n",
    "Heap sort works by visualising the elements in an array as a binary tree called a heap. If you take index of element i, the element (2i + 1) will become the left child whereas element (2i + 2) will become the right element. The organisation of the binary tree is known as to 'Heapify' the list.\n",
    "    \n",
    "For a binary tree, all the nodes proceeding the parent (the child nodes) are either larger or smaller than their parent node. These are known as Max-Heap and Min-Heap respectively.\n",
    "</p>"
   ]
  },
  {
   "cell_type": "code",
   "execution_count": null,
   "id": "6300d404",
   "metadata": {},
   "outputs": [],
   "source": []
  }
 ],
 "metadata": {
  "kernelspec": {
   "display_name": "Python 3 (ipykernel)",
   "language": "python",
   "name": "python3"
  },
  "language_info": {
   "codemirror_mode": {
    "name": "ipython",
    "version": 3
   },
   "file_extension": ".py",
   "mimetype": "text/x-python",
   "name": "python",
   "nbconvert_exporter": "python",
   "pygments_lexer": "ipython3",
   "version": "3.9.7"
  }
 },
 "nbformat": 4,
 "nbformat_minor": 5
}
